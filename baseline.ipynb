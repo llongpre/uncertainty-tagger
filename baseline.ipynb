{
 "cells": [
  {
   "cell_type": "code",
   "execution_count": 11,
   "metadata": {
    "collapsed": true
   },
   "outputs": [],
   "source": [
    "import os\n",
    "import csv\n",
    "import operator\n",
    "import itertools"
   ]
  },
  {
   "cell_type": "code",
   "execution_count": 12,
   "metadata": {
    "collapsed": true
   },
   "outputs": [],
   "source": [
    "# Open all files in given directory, call a method to return edited version of these files\n",
    "# Processes / edits the training files, trains out dictionary of cue words\n",
    "\n",
    "def iterate_all_files(input_path, output_path):\n",
    "    directory = os.path.join(input_path)\n",
    "    print directory\n",
    "    \n",
    "    cue_words = {}\n",
    "    \n",
    "    for root,dirs,files in os.walk(directory):\n",
    "        for file in files:\n",
    "            if file.endswith(\".txt\"):\n",
    "                edit_training_file(input_path + file, output_path + file)\n",
    "                cue_words = baseline_cues(output_path + file, cue_words)\n",
    "    return cue_words"
   ]
  },
  {
   "cell_type": "code",
   "execution_count": 13,
   "metadata": {
    "collapsed": false
   },
   "outputs": [],
   "source": [
    "def edit_training_file(input_path, output_path):\n",
    "    with open(input_path,'rb') as tsvin, open(output_path, 'wb') as tsvout:\n",
    "        tsvin = csv.reader(tsvin, delimiter='\\t', quoting=csv.QUOTE_NONE)\n",
    "        tsvout = csv.writer(tsvout, delimiter='\\t', quoting=csv.QUOTE_NONE, quotechar='')\n",
    "\n",
    "        last_row_end = '-'\n",
    "\n",
    "        for row in tsvin:\n",
    "            if row == []:\n",
    "                tsvout.writerow('')\n",
    "            else:    \n",
    "                if row[2] == '_':\n",
    "                    tag = 'O'\n",
    "                else:\n",
    "                    if last_row_end == row[2]:\n",
    "                        tag = 'I'\n",
    "                    else:\n",
    "                        tag = 'B'\n",
    "                tsvout.writerow([row[0],row[1],tag])\n",
    "                last_row_end = row[2]"
   ]
  },
  {
   "cell_type": "code",
   "execution_count": 14,
   "metadata": {
    "collapsed": true
   },
   "outputs": [],
   "source": [
    "def baseline_cues(file_name, cue_words):\n",
    "    with open(file_name) as tsv:\n",
    "        for line in csv.reader(tsv, delimiter='\\t', quoting=csv.QUOTE_NONE):\n",
    "            if (line!=[] and  line[2] != 'O'):\n",
    "                if (line[0] in cue_words):\n",
    "                    cue_words[line[0]] = cue_words.get(line[0])+1\n",
    "                else:\n",
    "                    cue_words[line[0]] = 1\n",
    "    return cue_words"
   ]
  },
  {
   "cell_type": "code",
   "execution_count": 15,
   "metadata": {
    "collapsed": true
   },
   "outputs": [],
   "source": [
    "# For each document in test, for each line, if line[0] in sorted_cues: attach a cue (logic for b vs i), else: == 'O'\n",
    "\n",
    "def iterate_all_test_files(input_path, output_path, cue_dict):\n",
    "    directory = os.path.join(input_path)\n",
    "    \n",
    "    counter = 0\n",
    "    indices = []\n",
    "    sent_counter = 0\n",
    "    sent_indices = []\n",
    "\n",
    "    for root,dirs,files in os.walk(directory):\n",
    "        for file in files:\n",
    "            if file.endswith(\".txt\"):\n",
    "                [counter, indices, sent_counter, sent_indices] = edit_test_file(input_path + file, output_path + file, cue_dict, \\\n",
    "                                                    counter, indices, sent_counter, sent_indices)\n",
    "    return counter, indices, sent_indices"
   ]
  },
  {
   "cell_type": "code",
   "execution_count": 16,
   "metadata": {
    "collapsed": true
   },
   "outputs": [],
   "source": [
    "def edit_test_file(input_path, output_path, cue_dict, counter, index_values, sentence_counter, sentence_indices):\n",
    "    with open(input_path,'rb') as tsvin, open(output_path, 'wb') as tsvout:\n",
    "        tsvin = csv.reader(tsvin, delimiter='\\t', quoting=csv.QUOTE_NONE)\n",
    "        tsvout = csv.writer(tsvout, delimiter='\\t', quoting=csv.QUOTE_NONE, quotechar='')\n",
    "\n",
    "        last_row_end = 'O'\n",
    "        uncertain_count = 0 # does this sentence have an uncertain word in it\n",
    "\n",
    "        for row in tsvin:\n",
    "            if row != []:\n",
    "                if row[0] in cue_dict:\n",
    "                    uncertain_count += 1\n",
    "                    index_values.append(counter)\n",
    "                    if last_row_end == 'B':\n",
    "                        tag = 'I'\n",
    "                    else:\n",
    "                        tag = 'B'\n",
    "                else:\n",
    "                    tag = 'O'\n",
    "                tsvout.writerow([row[0],row[1],tag])\n",
    "                last_row_end = tag\n",
    "                counter += 1\n",
    "            else:\n",
    "                tsvout.writerow('')\n",
    "                if uncertain_count > 3: # set this to the number of desired cue words to consider a sentence \"uncertain\"\n",
    "                    sentence_indices.append(sentence_counter)\n",
    "                uncertain_count = 0\n",
    "                sentence_counter += 1\n",
    "    return counter, index_values, sentence_counter, sentence_indices"
   ]
  },
  {
   "cell_type": "code",
   "execution_count": null,
   "metadata": {
    "collapsed": true
   },
   "outputs": [],
   "source": []
  },
  {
   "cell_type": "code",
   "execution_count": null,
   "metadata": {
    "collapsed": true
   },
   "outputs": [],
   "source": []
  },
  {
   "cell_type": "code",
   "execution_count": null,
   "metadata": {
    "collapsed": true
   },
   "outputs": [],
   "source": []
  },
  {
   "cell_type": "code",
   "execution_count": 17,
   "metadata": {
    "collapsed": false
   },
   "outputs": [
    {
     "data": {
      "text/plain": [
       "'\\nTraining the model\\n'"
      ]
     },
     "execution_count": 17,
     "metadata": {},
     "output_type": "execute_result"
    }
   ],
   "source": [
    "'''\n",
    "Training the model\n",
    "'''"
   ]
  },
  {
   "cell_type": "code",
   "execution_count": 18,
   "metadata": {
    "collapsed": true
   },
   "outputs": [],
   "source": [
    "in_path = 'train/'\n",
    "out_path = 'train-edited/' # must make the train-edited folder in the same directory"
   ]
  },
  {
   "cell_type": "code",
   "execution_count": 19,
   "metadata": {
    "collapsed": false
   },
   "outputs": [
    {
     "name": "stdout",
     "output_type": "stream",
     "text": [
      "train/\n"
     ]
    }
   ],
   "source": [
    "cues = iterate_all_files(in_path, out_path)\n",
    "sorted_cues = dict(sorted(cues.iteritems(), key=lambda x:-x[1])[:200])\n",
    "# print sorted_cues"
   ]
  },
  {
   "cell_type": "code",
   "execution_count": 20,
   "metadata": {
    "collapsed": false
   },
   "outputs": [
    {
     "data": {
      "text/plain": [
       "'\\nEditing the public test docs\\n'"
      ]
     },
     "execution_count": 20,
     "metadata": {},
     "output_type": "execute_result"
    }
   ],
   "source": [
    "'''\n",
    "Editing the public test docs\n",
    "'''"
   ]
  },
  {
   "cell_type": "code",
   "execution_count": 21,
   "metadata": {
    "collapsed": true
   },
   "outputs": [],
   "source": [
    "public_in_path = 'test-public/'\n",
    "public_out_path = 'test-public-edited/' # must make this folder too"
   ]
  },
  {
   "cell_type": "code",
   "execution_count": 22,
   "metadata": {
    "collapsed": false
   },
   "outputs": [],
   "source": [
    "[public_counter, public_indices, public_sent_indices] = iterate_all_test_files(public_in_path, public_out_path, sorted_cues)"
   ]
  },
  {
   "cell_type": "code",
   "execution_count": 23,
   "metadata": {
    "collapsed": false
   },
   "outputs": [],
   "source": [
    "# print public_counter\n",
    "# print len(public_indices)\n",
    "# print len(public_sent_indices)"
   ]
  },
  {
   "cell_type": "code",
   "execution_count": null,
   "metadata": {
    "collapsed": false
   },
   "outputs": [],
   "source": []
  },
  {
   "cell_type": "code",
   "execution_count": 24,
   "metadata": {
    "collapsed": false
   },
   "outputs": [
    {
     "data": {
      "text/plain": [
       "'\\nEditing the private test docs\\n'"
      ]
     },
     "execution_count": 24,
     "metadata": {},
     "output_type": "execute_result"
    }
   ],
   "source": [
    "'''\n",
    "Editing the private test docs\n",
    "'''"
   ]
  },
  {
   "cell_type": "code",
   "execution_count": 25,
   "metadata": {
    "collapsed": false
   },
   "outputs": [],
   "source": [
    "private_in_path = 'test-private/'\n",
    "private_out_path = 'test-private-edited/' # make this folder too\n",
    "[private_counter, private_indices, private_sent_indices] = iterate_all_test_files(private_in_path, private_out_path, sorted_cues)"
   ]
  },
  {
   "cell_type": "code",
   "execution_count": 26,
   "metadata": {
    "collapsed": false
   },
   "outputs": [],
   "source": [
    "# print private_counter\n",
    "# print len(private_indices)\n",
    "# print len(private_sent_indices)"
   ]
  },
  {
   "cell_type": "code",
   "execution_count": null,
   "metadata": {
    "collapsed": false
   },
   "outputs": [],
   "source": []
  },
  {
   "cell_type": "code",
   "execution_count": 27,
   "metadata": {
    "collapsed": false
   },
   "outputs": [
    {
     "data": {
      "text/plain": [
       "'\\nCreate the output file for Kaggle submission 1\\n'"
      ]
     },
     "execution_count": 27,
     "metadata": {},
     "output_type": "execute_result"
    }
   ],
   "source": [
    "'''\n",
    "Create the output file for Kaggle submission 1\n",
    "'''"
   ]
  },
  {
   "cell_type": "code",
   "execution_count": 28,
   "metadata": {
    "collapsed": false
   },
   "outputs": [],
   "source": [
    "# create_ranges adapted from stackoverflow post for generating ranges:\n",
    "# http://stackoverflow.com/questions/4628333/converting-a-list-of-integers-into-range-in-python\n",
    "def create_ranges(i):\n",
    "    for a, b in itertools.groupby(enumerate(i), lambda (x, y): y - x):\n",
    "        b = list(b)\n",
    "        yield b[0][1], b[-1][1]\n",
    "\n",
    "def format_ranges(i):\n",
    "    ranges = []\n",
    "    for tup in i:\n",
    "        ranges.append(str(tup[0]) + \"-\" + str(tup[1]))\n",
    "    return ranges\n"
   ]
  },
  {
   "cell_type": "code",
   "execution_count": 29,
   "metadata": {
    "collapsed": false
   },
   "outputs": [],
   "source": [
    "'''\n",
    "Create the csv file for sequence predictions\n",
    "'''\n",
    "\n",
    "public_range_list = list(create_ranges(public_indices))\n",
    "private_range_list = list(create_ranges(private_indices))\n",
    "public_formatted = \" \".join(format_ranges(public_range_list))\n",
    "private_formatted = \" \".join(format_ranges(private_range_list))"
   ]
  },
  {
   "cell_type": "code",
   "execution_count": 30,
   "metadata": {
    "collapsed": true
   },
   "outputs": [],
   "source": [
    "with open('sequence_predictions.csv', 'wb') as output:\n",
    "    output = csv.writer(output)\n",
    "    output.writerow(['Type', 'Spans'])\n",
    "    output.writerow(['CUE-public', public_formatted])\n",
    "    output.writerow(['CUE-private', private_formatted])\n",
    "    "
   ]
  },
  {
   "cell_type": "code",
   "execution_count": 31,
   "metadata": {
    "collapsed": false
   },
   "outputs": [
    {
     "data": {
      "text/plain": [
       "'\\nCreate the csv file for sentence-level predictions\\n'"
      ]
     },
     "execution_count": 31,
     "metadata": {},
     "output_type": "execute_result"
    }
   ],
   "source": [
    "'''\n",
    "Create the csv file for sentence-level predictions\n",
    "'''\n",
    "\n"
   ]
  },
  {
   "cell_type": "code",
   "execution_count": null,
   "metadata": {
    "collapsed": true
   },
   "outputs": [],
   "source": []
  },
  {
   "cell_type": "code",
   "execution_count": 702,
   "metadata": {
    "collapsed": false
   },
   "outputs": [],
   "source": [
    "with open('sentence_predictions.csv', 'wb') as output:\n",
    "    output = csv.writer(output)\n",
    "    output.writerow(['Type', 'Indices'])\n",
    "    output.writerow(['SENTENCE-public', \" \".join([str(i) for i in public_sent_indices])])\n",
    "    output.writerow(['SENTENCE-private', \" \".join([str(i) for i in private_sent_indices])])"
   ]
  },
  {
   "cell_type": "code",
   "execution_count": null,
   "metadata": {
    "collapsed": true
   },
   "outputs": [],
   "source": []
  },
  {
   "cell_type": "code",
   "execution_count": null,
   "metadata": {
    "collapsed": true
   },
   "outputs": [],
   "source": []
  },
  {
   "cell_type": "code",
   "execution_count": null,
   "metadata": {
    "collapsed": true
   },
   "outputs": [],
   "source": []
  }
 ],
 "metadata": {
  "anaconda-cloud": {},
  "kernelspec": {
   "display_name": "Python [default]",
   "language": "python",
   "name": "python2"
  },
  "language_info": {
   "codemirror_mode": {
    "name": "ipython",
    "version": 2
   },
   "file_extension": ".py",
   "mimetype": "text/x-python",
   "name": "python",
   "nbconvert_exporter": "python",
   "pygments_lexer": "ipython2",
   "version": "2.7.12"
  }
 },
 "nbformat": 4,
 "nbformat_minor": 0
}
